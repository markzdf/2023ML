{
 "cells": [
  {
   "cell_type": "markdown",
   "id": "0e369cdb-a835-4311-b21f-faacc26f1caa",
   "metadata": {},
   "source": [
    "## 1.\n",
    "生成训练集：用函数$y=\\sin(7x)+\\xi$生成训练集，其中$\\xi$是均值为0的随机小扰动。样本数$m=40$，并将$x$限制在区间$[0,1]$。比如可以用如下代码生成：\n",
    "```\n",
    "random_perturbation = 0.2*(np.random.rand(m,1) - 0.5)\n",
    "```"
   ]
  },
  {
   "cell_type": "code",
   "execution_count": 5,
   "id": "736b5908-f27e-41b2-ab0e-9560eeade246",
   "metadata": {},
   "outputs": [],
   "source": [
    "import numpy as np\n",
    "import matplotlib.pyplot as plt\n",
    "m = 40\n",
    "n = 3\n",
    "x = np.random.rand(m,1)\n",
    "xi = np.random.randn(m,1)\n",
    "Y = np.sin(7*x) + xi"
   ]
  },
  {
   "cell_type": "markdown",
   "id": "324154d3-11e1-4c5d-8f7a-430391d95901",
   "metadata": {},
   "source": [
    "## 2.\n",
    "用 Normal Equation 解析求解最佳$\\Theta$，（`numpy`里有整套矩阵运算操作，包括点乘、转置、伪逆）。注意：计算前必须指定最高幂次$n$，例如\n",
    "```\n",
    "np.dot(X.T,X) # X的转置乘X\n",
    "np.linalg.pinv(X) # 矩阵X的（伪）逆\n",
    "```"
   ]
  },
  {
   "cell_type": "markdown",
   "id": "e0f4c5b7-2eb1-41c8-9b6e-48bcedf845c4",
   "metadata": {},
   "source": [
    "现在有$m$个样本，$n$个特征，回归后对第$i$个样本的估计值表示为\n",
    "$$\n",
    "h_{\\theta}(x^i)=\\theta_0+\\theta_1x_1^i+\\cdots+\\theta_nx_n^i\n",
    "$$\n",
    "损失函数为\n",
    "$$\n",
    "J(\\theta)=\\frac{1}{2m}\\sum_{i=1}^m(h_{\\theta}(x^i)-y^i)^2\n",
    "$$\n",
    "其偏导数为\n",
    "$$\n",
    "\\frac{\\partial}{\\partial \\theta_j}J(\\theta)=\\frac 1m\\sum_{i=1}^m(h_{\\theta}(x^i)-y^i)x_j^i \\quad j=1,\\cdots,n\n",
    "$$\n",
    "其中$\\theta_j$是第$j$个特征参数\n",
    "\n",
    "把上式写成矩阵形式\n",
    "$$\n",
    "J(\\Theta)=\\frac{1}{2m}(X\\Theta-Y)^T(X\\Theta-Y)\n",
    "$$\n",
    "$$\n",
    "\\frac{\\partial J}{\\partial \\Theta}=\\frac 1m X^T(X\\Theta-Y)\n",
    "$$\n",
    "令上式等于0，得到\n",
    "$$\n",
    "\\Theta=(X^TX)^{-1}X^TY\n",
    "$$\n",
    "注意$\\Theta$是$n+1$维列向量，因为除了$n$个特征参数，还有常数项$n_0$."
   ]
  },
  {
   "cell_type": "code",
   "execution_count": 6,
   "id": "c00e3c19-a5b7-4e31-8c3b-6fce05a35440",
   "metadata": {},
   "outputs": [],
   "source": [
    "X = np.random.rand(m,n)\n",
    "X = np.hstack((np.ones(m).reshape(m,1),X)) # 第一列常数项，全是1"
   ]
  },
  {
   "cell_type": "code",
   "execution_count": 7,
   "id": "87cca5e3-3a78-4132-8f22-055927113b5a",
   "metadata": {},
   "outputs": [],
   "source": [
    "def normal(m,n,X,Y):\n",
    "    X = np.random.rand(m,n)\n",
    "    X = np.hstack((np.ones(m).reshape(m,1),X)) # 第一列常数项，全是1\n",
    "    XTX = np.linalg.pinv(np.dot(X.T,X))\n",
    "    theta = np.dot(np.dot(XTX,X.T),Y)\n",
    "    return theta"
   ]
  },
  {
   "cell_type": "code",
   "execution_count": 8,
   "id": "46a136ee-a78f-46aa-adaa-0fbd3c6a81ee",
   "metadata": {},
   "outputs": [
    {
     "name": "stdout",
     "output_type": "stream",
     "text": [
      "Intel MKL WARNING: Support of Intel(R) Streaming SIMD Extensions 4.2 (Intel(R) SSE4.2) enabled only processors has been deprecated. Intel oneAPI Math Kernel Library 2025.0 will require Intel(R) Advanced Vector Extensions (Intel(R) AVX) instructions.\n",
      "[[ 0.12995247]\n",
      " [ 0.50288145]\n",
      " [-0.60972524]\n",
      " [ 0.69480854]]\n"
     ]
    }
   ],
   "source": [
    "print(normal(40,3,X,Y))"
   ]
  },
  {
   "cell_type": "markdown",
   "id": "6474e047-f7d3-43ab-b73e-16b750a6fd1c",
   "metadata": {},
   "source": [
    "## 3.\n",
    "用梯度下降算法拟合训练集。训练之前，必须指定一些参数，如学习率$\\alpha$，迭代次数，和最高次幂$n$，我们把这些无法通过训练确定的参数称为超参数。超参数会影响训练和预测效果，我们这里主要关注$n$，可以固定合适的$\\alpha$和迭代次数，只探索$n$对结果的影响。画出学习曲线，即损失函数随迭代次数的变化曲线"
   ]
  },
  {
   "cell_type": "code",
   "execution_count": 9,
   "id": "87223930-a44b-4b21-be5c-e4a658e392e3",
   "metadata": {},
   "outputs": [],
   "source": [
    "# 固定学习率和迭代次数\n",
    "a = 0.5\n",
    "iter = 500"
   ]
  },
  {
   "cell_type": "code",
   "execution_count": 10,
   "id": "8175fd9e-7106-4921-8006-7d708383ba1b",
   "metadata": {},
   "outputs": [],
   "source": [
    "def give_X(m,n):\n",
    "    X = np.random.rand(m,n)\n",
    "    X = np.hstack((np.ones(m).reshape(m,1),X)) # 把第一列全为1的并进去\n",
    "    return X"
   ]
  },
  {
   "cell_type": "code",
   "execution_count": 11,
   "id": "4f5654cc-cc6f-45be-8b13-3915e775d109",
   "metadata": {},
   "outputs": [],
   "source": [
    "def give_Y(m):\n",
    "    x = np.random.rand(m,1)\n",
    "    xi = np.random.randn(m,1)\n",
    "    Y = np.sin(7*x) + xi\n",
    "    return Y"
   ]
  },
  {
   "cell_type": "markdown",
   "id": "34d24f32-37dc-44d6-b882-7da78ee7c15a",
   "metadata": {},
   "source": [
    "$$\n",
    "\\begin{bmatrix}\n",
    "1 & x^1_1 & \\cdots & x^1_n\\\\\n",
    "\\vdots & \\vdots & \\ddots & \\vdots\\\\\n",
    "1 & x^m_1 & \\cdots & x^m_n\n",
    "\\end{bmatrix}\n",
    "\\begin{bmatrix}\n",
    "\\theta_0\\\\\n",
    "\\theta_1\\\\\n",
    "\\vdots\\\\\n",
    "\\theta_n\n",
    "\\end{bmatrix}=\n",
    "\\begin{bmatrix}\n",
    "\\hat{y}_1\\\\\n",
    "\\hat{y}_2\\\\\n",
    "\\vdots\\\\\n",
    "\\hat{y}_m\n",
    "\\end{bmatrix}\n",
    "$$"
   ]
  },
  {
   "cell_type": "code",
   "execution_count": 12,
   "id": "8296e895-d531-4c06-9052-efce41773315",
   "metadata": {},
   "outputs": [],
   "source": [
    "def cost(X,Theta,Y):\n",
    "    diff = np.dot(X,Theta) - Y\n",
    "    m = X.shape[0]\n",
    "    return (1/(2*m)) * np.dot(diff.T,diff).sum()"
   ]
  },
  {
   "cell_type": "code",
   "execution_count": 13,
   "id": "93324aea-1acf-42d8-8ac2-9d589bf9474c",
   "metadata": {},
   "outputs": [],
   "source": [
    "def gradient(X,Theta,Y):\n",
    "    diff = np.dot(X,Theta) - Y\n",
    "    m = X.shape[0]\n",
    "    return 1/m * np.dot(X.T,diff)"
   ]
  },
  {
   "cell_type": "markdown",
   "id": "12082f3e-6311-4f5c-8b34-cd1a87a24816",
   "metadata": {},
   "source": [
    "$$\n",
    "\\Theta = \\Theta - \\alpha \\cdot\\frac{1}{m}X^T(X\\Theta-Y)\n",
    "$$"
   ]
  },
  {
   "cell_type": "code",
   "execution_count": 50,
   "id": "b6e11643-d3a1-4fd0-abdb-e0c4bd066e77",
   "metadata": {},
   "outputs": [
    {
     "data": {
      "image/png": "[encoded data removed]",
      "text/plain": [
       "<Figure size 640x480 with 1 Axes>"
      ]
     },
     "metadata": {},
     "output_type": "display_data"
    }
   ],
   "source": [
    "N = [1,3,5,10]\n",
    "for n in N:\n",
    "    X = give_X(40,n) # 生成训练集\n",
    "    Y = give_Y(40)\n",
    "    Theta = np.ones((n+1,1)) # 初始化\n",
    "    Cost = np.zeros((iter,1)) # 记录每次迭代后损失函数的值\n",
    "    for i in range(iter):\n",
    "        Theta = Theta - a * gradient(X,Theta,Y)\n",
    "        Cost[i] = cost(X,Theta,Y)\n",
    "    plt.loglog(range(iter),Cost,label=f\"n = {n}\")\n",
    "\n",
    "plt.xlabel(\"Number of iterations\")\n",
    "plt.ylabel(\"Cost\")\n",
    "plt.title(\"Learning Curve for different n\")\n",
    "plt.legend()\n",
    "plt.grid(True)"
   ]
  },
  {
   "cell_type": "markdown",
   "id": "f0bc6290-9993-4595-a10c-57c18881bd48",
   "metadata": {},
   "source": [
    "好像每次的形状都不一样，损失函数最小的$n$也不一样"
   ]
  },
  {
   "cell_type": "markdown",
   "id": "3c6acdf4-7a6a-4de1-a3d3-e19f1ed014ce",
   "metadata": {},
   "source": [
    "## 4.\n",
    "用同样的函数形式，重新生成不同于训练集的$m=20$个样本作为测试集，计算测试集的J（即平均平方误差除以2）。对比上面两种方法的效果"
   ]
  },
  {
   "cell_type": "markdown",
   "id": "fa9cdd32-a659-45a8-8be8-22696fd2e73c",
   "metadata": {},
   "source": [
    "我做了normal equation的函数，是`normal(m,n,X,Y)`"
   ]
  },
  {
   "cell_type": "code",
   "execution_count": 19,
   "id": "924a8e79-0c09-4ae3-9c33-ff016d931e82",
   "metadata": {},
   "outputs": [],
   "source": [
    "m_t = 20\n",
    "N = list(range(1,11))\n",
    "x_t = np.random.rand(m_t, N[2])\n",
    "x_t = np.hstack((np.ones(m_t).reshape(m_t,1),x_t))\n",
    "y_t = np.sin(7 * x_t) + np.random.randn(m_t, 1) * 0.1"
   ]
  },
  {
   "cell_type": "code",
   "execution_count": 20,
   "id": "0ca36bb7-de01-464a-8c0d-4d95bf97da8a",
   "metadata": {},
   "outputs": [
    {
     "name": "stdout",
     "output_type": "stream",
     "text": [
      "Intel MKL WARNING: Support of Intel(R) Streaming SIMD Extensions 4.2 (Intel(R) SSE4.2) enabled only processors has been deprecated. Intel oneAPI Math Kernel Library 2025.0 will require Intel(R) Advanced Vector Extensions (Intel(R) AVX) instructions.\n",
      "Intel MKL WARNING: Support of Intel(R) Streaming SIMD Extensions 4.2 (Intel(R) SSE4.2) enabled only processors has been deprecated. Intel oneAPI Math Kernel Library 2025.0 will require Intel(R) Advanced Vector Extensions (Intel(R) AVX) instructions.\n",
      "Intel MKL WARNING: Support of Intel(R) Streaming SIMD Extensions 4.2 (Intel(R) SSE4.2) enabled only processors has been deprecated. Intel oneAPI Math Kernel Library 2025.0 will require Intel(R) Advanced Vector Extensions (Intel(R) AVX) instructions.\n",
      "Intel MKL WARNING: Support of Intel(R) Streaming SIMD Extensions 4.2 (Intel(R) SSE4.2) enabled only processors has been deprecated. Intel oneAPI Math Kernel Library 2025.0 will require Intel(R) Advanced Vector Extensions (Intel(R) AVX) instructions.\n",
      "Intel MKL WARNING: Support of Intel(R) Streaming SIMD Extensions 4.2 (Intel(R) SSE4.2) enabled only processors has been deprecated. Intel oneAPI Math Kernel Library 2025.0 will require Intel(R) Advanced Vector Extensions (Intel(R) AVX) instructions.\n",
      "Intel MKL WARNING: Support of Intel(R) Streaming SIMD Extensions 4.2 (Intel(R) SSE4.2) enabled only processors has been deprecated. Intel oneAPI Math Kernel Library 2025.0 will require Intel(R) Advanced Vector Extensions (Intel(R) AVX) instructions.\n",
      "Intel MKL WARNING: Support of Intel(R) Streaming SIMD Extensions 4.2 (Intel(R) SSE4.2) enabled only processors has been deprecated. Intel oneAPI Math Kernel Library 2025.0 will require Intel(R) Advanced Vector Extensions (Intel(R) AVX) instructions.\n",
      "Intel MKL WARNING: Support of Intel(R) Streaming SIMD Extensions 4.2 (Intel(R) SSE4.2) enabled only processors has been deprecated. Intel oneAPI Math Kernel Library 2025.0 will require Intel(R) Advanced Vector Extensions (Intel(R) AVX) instructions.\n",
      "Intel MKL WARNING: Support of Intel(R) Streaming SIMD Extensions 4.2 (Intel(R) SSE4.2) enabled only processors has been deprecated. Intel oneAPI Math Kernel Library 2025.0 will require Intel(R) Advanced Vector Extensions (Intel(R) AVX) instructions.\n",
      "Intel MKL WARNING: Support of Intel(R) Streaming SIMD Extensions 4.2 (Intel(R) SSE4.2) enabled only processors has been deprecated. Intel oneAPI Math Kernel Library 2025.0 will require Intel(R) Advanced Vector Extensions (Intel(R) AVX) instructions.\n",
      "Intel MKL WARNING: Support of Intel(R) Streaming SIMD Extensions 4.2 (Intel(R) SSE4.2) enabled only processors has been deprecated. Intel oneAPI Math Kernel Library 2025.0 will require Intel(R) Advanced Vector Extensions (Intel(R) AVX) instructions.\n",
      "Intel MKL WARNING: Support of Intel(R) Streaming SIMD Extensions 4.2 (Intel(R) SSE4.2) enabled only processors has been deprecated. Intel oneAPI Math Kernel Library 2025.0 will require Intel(R) Advanced Vector Extensions (Intel(R) AVX) instructions.\n",
      "Intel MKL WARNING: Support of Intel(R) Streaming SIMD Extensions 4.2 (Intel(R) SSE4.2) enabled only processors has been deprecated. Intel oneAPI Math Kernel Library 2025.0 will require Intel(R) Advanced Vector Extensions (Intel(R) AVX) instructions.\n",
      "Intel MKL WARNING: Support of Intel(R) Streaming SIMD Extensions 4.2 (Intel(R) SSE4.2) enabled only processors has been deprecated. Intel oneAPI Math Kernel Library 2025.0 will require Intel(R) Advanced Vector Extensions (Intel(R) AVX) instructions.\n",
      "Intel MKL WARNING: Support of Intel(R) Streaming SIMD Extensions 4.2 (Intel(R) SSE4.2) enabled only processors has been deprecated. Intel oneAPI Math Kernel Library 2025.0 will require Intel(R) Advanced Vector Extensions (Intel(R) AVX) instructions.\n",
      "Intel MKL WARNING: Support of Intel(R) Streaming SIMD Extensions 4.2 (Intel(R) SSE4.2) enabled only processors has been deprecated. Intel oneAPI Math Kernel Library 2025.0 will require Intel(R) Advanced Vector Extensions (Intel(R) AVX) instructions.\n",
      "Intel MKL WARNING: Support of Intel(R) Streaming SIMD Extensions 4.2 (Intel(R) SSE4.2) enabled only processors has been deprecated. Intel oneAPI Math Kernel Library 2025.0 will require Intel(R) Advanced Vector Extensions (Intel(R) AVX) instructions.\n",
      "Intel MKL WARNING: Support of Intel(R) Streaming SIMD Extensions 4.2 (Intel(R) SSE4.2) enabled only processors has been deprecated. Intel oneAPI Math Kernel Library 2025.0 will require Intel(R) Advanced Vector Extensions (Intel(R) AVX) instructions.\n",
      "Intel MKL WARNING: Support of Intel(R) Streaming SIMD Extensions 4.2 (Intel(R) SSE4.2) enabled only processors has been deprecated. Intel oneAPI Math Kernel Library 2025.0 will require Intel(R) Advanced Vector Extensions (Intel(R) AVX) instructions.\n",
      "[2.60179746 2.50480218 3.12981209 7.4546168  2.87155863 3.62946079\n",
      " 6.85835741 4.97072831 3.4269467  5.28685813]\n",
      "Intel MKL WARNING: Support of Intel(R) Streaming SIMD Extensions 4.2 (Intel(R) SSE4.2) enabled only processors has been deprecated. Intel oneAPI Math Kernel Library 2025.0 will require Intel(R) Advanced Vector Extensions (Intel(R) AVX) instructions.\n"
     ]
    }
   ],
   "source": [
    "# normal equation\n",
    "cost_normal = np.zeros(len(N))\n",
    "for i in range(len(N)):\n",
    "    # 生成测试集\n",
    "    x_t = np.random.rand(m_t, N[i])\n",
    "    x_t = np.hstack((np.ones(m_t).reshape(m_t,1),x_t))\n",
    "    p = np.zeros((N[i]+1,1))\n",
    "    p = normal(40,N[i],X,Y)\n",
    "    cost_normal[i] = cost(x_t,p,y_t)\n",
    "print(cost_normal)"
   ]
  },
  {
   "cell_type": "code",
   "execution_count": 21,
   "id": "0d52c965-1a27-4e92-8e9a-091d24f29345",
   "metadata": {},
   "outputs": [
    {
     "name": "stdout",
     "output_type": "stream",
     "text": [
      "Intel MKL WARNING: Support of Intel(R) Streaming SIMD Extensions 4.2 (Intel(R) SSE4.2) enabled only processors has been deprecated. Intel oneAPI Math Kernel Library 2025.0 will require Intel(R) Advanced Vector Extensions (Intel(R) AVX) instructions.\n",
      "Intel MKL WARNING: Support of Intel(R) Streaming SIMD Extensions 4.2 (Intel(R) SSE4.2) enabled only processors has been deprecated. Intel oneAPI Math Kernel Library 2025.0 will require Intel(R) Advanced Vector Extensions (Intel(R) AVX) instructions.\n",
      "Intel MKL WARNING: Support of Intel(R) Streaming SIMD Extensions 4.2 (Intel(R) SSE4.2) enabled only processors has been deprecated. Intel oneAPI Math Kernel Library 2025.0 will require Intel(R) Advanced Vector Extensions (Intel(R) AVX) instructions.\n",
      "Intel MKL WARNING: Support of Intel(R) Streaming SIMD Extensions 4.2 (Intel(R) SSE4.2) enabled only processors has been deprecated. Intel oneAPI Math Kernel Library 2025.0 will require Intel(R) Advanced Vector Extensions (Intel(R) AVX) instructions.\n",
      "Intel MKL WARNING: Support of Intel(R) Streaming SIMD Extensions 4.2 (Intel(R) SSE4.2) enabled only processors has been deprecated. Intel oneAPI Math Kernel Library 2025.0 will require Intel(R) Advanced Vector Extensions (Intel(R) AVX) instructions.\n",
      "Intel MKL WARNING: Support of Intel(R) Streaming SIMD Extensions 4.2 (Intel(R) SSE4.2) enabled only processors has been deprecated. Intel oneAPI Math Kernel Library 2025.0 will require Intel(R) Advanced Vector Extensions (Intel(R) AVX) instructions.\n",
      "Intel MKL WARNING: Support of Intel(R) Streaming SIMD Extensions 4.2 (Intel(R) SSE4.2) enabled only processors has been deprecated. Intel oneAPI Math Kernel Library 2025.0 will require Intel(R) Advanced Vector Extensions (Intel(R) AVX) instructions.\n",
      "Intel MKL WARNING: Support of Intel(R) Streaming SIMD Extensions 4.2 (Intel(R) SSE4.2) enabled only processors has been deprecated. Intel oneAPI Math Kernel Library 2025.0 will require Intel(R) Advanced Vector Extensions (Intel(R) AVX) instructions.\n",
      "Intel MKL WARNING: Support of Intel(R) Streaming SIMD Extensions 4.2 (Intel(R) SSE4.2) enabled only processors has been deprecated. Intel oneAPI Math Kernel Library 2025.0 will require Intel(R) Advanced Vector Extensions (Intel(R) AVX) instructions.\n",
      "[0.72294133 0.72385329 0.76419477 0.77978285 0.76869168 0.75362663\n",
      " 0.59663447 0.27295327 0.51430231 0.54219191]\n",
      "Intel MKL WARNING: Support of Intel(R) Streaming SIMD Extensions 4.2 (Intel(R) SSE4.2) enabled only processors has been deprecated. Intel oneAPI Math Kernel Library 2025.0 will require Intel(R) Advanced Vector Extensions (Intel(R) AVX) instructions.\n"
     ]
    }
   ],
   "source": [
    "# 梯度下降\n",
    "cost_gradient = np.zeros(len(N))\n",
    "for i in range(len(N)):\n",
    "    x_t = np.random.rand(20, N[i]) # 生成测试集\n",
    "    x_t = np.hstack((np.ones(20).reshape(20,1),x_t))\n",
    "    Theta = np.zeros((N[i]+1,1)) # 初始化\n",
    "    for j in range(iter):\n",
    "        Theta = Theta - a * gradient(x_t,Theta,y_t)\n",
    "    cost_gradient[i] = cost(x_t,Theta,y_t)\n",
    "\n",
    "print(cost_gradient)"
   ]
  },
  {
   "cell_type": "markdown",
   "id": "cf63a965-d344-4a63-88a2-766292304502",
   "metadata": {},
   "source": [
    "发现梯度下降方法的损失函数远比用normal equation的小"
   ]
  },
  {
   "cell_type": "code",
   "execution_count": 23,
   "id": "594dbdd4-67a3-4016-9db7-cf68f2339de0",
   "metadata": {},
   "outputs": [
    {
     "data": {
      "text/plain": [
       "Text(0, 0.5, 'Cost')"
      ]
     },
     "execution_count": 23,
     "metadata": {},
     "output_type": "execute_result"
    },
    {
     "data": {
      "image/png": "[encoded data removed]",
      "text/plain": [
       "<Figure size 640x480 with 1 Axes>"
      ]
     },
     "metadata": {},
     "output_type": "display_data"
    }
   ],
   "source": [
    "plt.plot(N,cost_normal,label=\"normal\",color=\"red\")\n",
    "plt.plot(N,cost_gradient,label=\"gradient\",color=\"blue\")\n",
    "plt.legend()\n",
    "plt.xlabel(\"n\")\n",
    "plt.ylabel(\"Cost\")"
   ]
  },
  {
   "cell_type": "markdown",
   "id": "b2643d10-90c1-4a18-b30e-6162b4798847",
   "metadata": {},
   "source": [
    "## 5.\n",
    "尝试几次后，最终计算如下曲线：\n",
    "y轴为J（样本平均平方误差），x轴为n，即多项式的最高次幂，画两条曲线，一条是训练样本的J，一条是测试样本的J"
   ]
  },
  {
   "cell_type": "markdown",
   "id": "4fa4503b-d931-430c-8014-c4f3baa018b4",
   "metadata": {},
   "source": [
    "这里只做梯度下降的"
   ]
  },
  {
   "cell_type": "code",
   "execution_count": 24,
   "id": "c6db76a0-2b54-48de-8bcd-bdfd33aec5da",
   "metadata": {},
   "outputs": [
    {
     "name": "stdout",
     "output_type": "stream",
     "text": [
      "[0.80869013 0.80495883 0.92638675 0.45888861 0.70012933 0.64072565\n",
      " 0.71391162 0.76851187 0.72489497 0.50428674]\n"
     ]
    }
   ],
   "source": [
    "# 训练样本\n",
    "cost_train = np.zeros(len(N))\n",
    "for i in range(len(N)):\n",
    "    X = give_X(40,N[i]) # 生成训练集\n",
    "    Y = give_Y(40)\n",
    "    Theta = np.zeros((N[i]+1,1)) # 初始化\n",
    "    for j in range(iter):\n",
    "        Theta = Theta - a * gradient(X,Theta,Y)\n",
    "    cost_train[i] = cost(X,Theta,Y)\n",
    "\n",
    "print(cost_train)"
   ]
  },
  {
   "cell_type": "code",
   "execution_count": 52,
   "id": "af9c818c-a579-41da-b20b-f57880d9e265",
   "metadata": {},
   "outputs": [
    {
     "name": "stdout",
     "output_type": "stream",
     "text": [
      "Intel MKL WARNING: Support of Intel(R) Streaming SIMD Extensions 4.2 (Intel(R) SSE4.2) enabled only processors has been deprecated. Intel oneAPI Math Kernel Library 2025.0 will require Intel(R) Advanced Vector Extensions (Intel(R) AVX) instructions.\n",
      "Intel MKL WARNING: Support of Intel(R) Streaming SIMD Extensions 4.2 (Intel(R) SSE4.2) enabled only processors has been deprecated. Intel oneAPI Math Kernel Library 2025.0 will require Intel(R) Advanced Vector Extensions (Intel(R) AVX) instructions.\n",
      "Intel MKL WARNING: Support of Intel(R) Streaming SIMD Extensions 4.2 (Intel(R) SSE4.2) enabled only processors has been deprecated. Intel oneAPI Math Kernel Library 2025.0 will require Intel(R) Advanced Vector Extensions (Intel(R) AVX) instructions.\n",
      "[0.79967456 0.71124247 0.47617273 0.49131896]\n",
      "Intel MKL WARNING: Support of Intel(R) Streaming SIMD Extensions 4.2 (Intel(R) SSE4.2) enabled only processors has been deprecated. Intel oneAPI Math Kernel Library 2025.0 will require Intel(R) Advanced Vector Extensions (Intel(R) AVX) instructions.\n"
     ]
    }
   ],
   "source": [
    "# 测试样本\n",
    "cost_test = np.zeros(len(N))\n",
    "for i in range(len(N)):\n",
    "    x_t = np.random.rand(20, N[i]) # 生成测试集\n",
    "    x_t = np.hstack((np.ones(20).reshape(m_t,1),x_t))\n",
    "    Theta = np.zeros((N[i]+1,1)) # 初始化\n",
    "    for j in range(iter):\n",
    "        Theta = Theta - a * gradient(x_t,Theta,y_t)\n",
    "    cost_test[i] = cost(x_t,Theta,y_t)\n",
    "\n",
    "print(cost_test)"
   ]
  },
  {
   "cell_type": "code",
   "execution_count": 53,
   "id": "a4a44ed5-c5f1-49d0-bbc1-250a4d9010c7",
   "metadata": {},
   "outputs": [
    {
     "ename": "ValueError",
     "evalue": "x and y must have same first dimension, but have shapes (4,) and (10,)",
     "output_type": "error",
     "traceback": [
      "\u001b[0;31m---------------------------------------------------------------------------\u001b[0m",
      "\u001b[0;31mValueError\u001b[0m                                Traceback (most recent call last)",
      "Cell \u001b[0;32mIn[53], line 1\u001b[0m\n\u001b[0;32m----> 1\u001b[0m \u001b[43mplt\u001b[49m\u001b[38;5;241;43m.\u001b[39;49m\u001b[43mplot\u001b[49m\u001b[43m(\u001b[49m\u001b[43mN\u001b[49m\u001b[43m,\u001b[49m\u001b[43mcost_train\u001b[49m\u001b[43m,\u001b[49m\u001b[43mlabel\u001b[49m\u001b[38;5;241;43m=\u001b[39;49m\u001b[38;5;124;43m\"\u001b[39;49m\u001b[38;5;124;43mtrain\u001b[39;49m\u001b[38;5;124;43m\"\u001b[39;49m\u001b[43m,\u001b[49m\u001b[43mcolor\u001b[49m\u001b[38;5;241;43m=\u001b[39;49m\u001b[38;5;124;43m\"\u001b[39;49m\u001b[38;5;124;43mred\u001b[39;49m\u001b[38;5;124;43m\"\u001b[39;49m\u001b[43m)\u001b[49m\n\u001b[1;32m      2\u001b[0m plt\u001b[38;5;241m.\u001b[39mplot(N,cost_test,label\u001b[38;5;241m=\u001b[39m\u001b[38;5;124m\"\u001b[39m\u001b[38;5;124mtest\u001b[39m\u001b[38;5;124m\"\u001b[39m,color\u001b[38;5;241m=\u001b[39m\u001b[38;5;124m\"\u001b[39m\u001b[38;5;124mblue\u001b[39m\u001b[38;5;124m\"\u001b[39m)\n\u001b[1;32m      3\u001b[0m plt\u001b[38;5;241m.\u001b[39mlegend()\n",
      "File \u001b[0;32m~/opt/anaconda3/envs/Main/lib/python3.9/site-packages/matplotlib/pyplot.py:2812\u001b[0m, in \u001b[0;36mplot\u001b[0;34m(scalex, scaley, data, *args, **kwargs)\u001b[0m\n\u001b[1;32m   2810\u001b[0m \u001b[38;5;129m@_copy_docstring_and_deprecators\u001b[39m(Axes\u001b[38;5;241m.\u001b[39mplot)\n\u001b[1;32m   2811\u001b[0m \u001b[38;5;28;01mdef\u001b[39;00m \u001b[38;5;21mplot\u001b[39m(\u001b[38;5;241m*\u001b[39margs, scalex\u001b[38;5;241m=\u001b[39m\u001b[38;5;28;01mTrue\u001b[39;00m, scaley\u001b[38;5;241m=\u001b[39m\u001b[38;5;28;01mTrue\u001b[39;00m, data\u001b[38;5;241m=\u001b[39m\u001b[38;5;28;01mNone\u001b[39;00m, \u001b[38;5;241m*\u001b[39m\u001b[38;5;241m*\u001b[39mkwargs):\n\u001b[0;32m-> 2812\u001b[0m     \u001b[38;5;28;01mreturn\u001b[39;00m \u001b[43mgca\u001b[49m\u001b[43m(\u001b[49m\u001b[43m)\u001b[49m\u001b[38;5;241;43m.\u001b[39;49m\u001b[43mplot\u001b[49m\u001b[43m(\u001b[49m\n\u001b[1;32m   2813\u001b[0m \u001b[43m        \u001b[49m\u001b[38;5;241;43m*\u001b[39;49m\u001b[43margs\u001b[49m\u001b[43m,\u001b[49m\u001b[43m \u001b[49m\u001b[43mscalex\u001b[49m\u001b[38;5;241;43m=\u001b[39;49m\u001b[43mscalex\u001b[49m\u001b[43m,\u001b[49m\u001b[43m \u001b[49m\u001b[43mscaley\u001b[49m\u001b[38;5;241;43m=\u001b[39;49m\u001b[43mscaley\u001b[49m\u001b[43m,\u001b[49m\n\u001b[1;32m   2814\u001b[0m \u001b[43m        \u001b[49m\u001b[38;5;241;43m*\u001b[39;49m\u001b[38;5;241;43m*\u001b[39;49m\u001b[43m(\u001b[49m\u001b[43m{\u001b[49m\u001b[38;5;124;43m\"\u001b[39;49m\u001b[38;5;124;43mdata\u001b[39;49m\u001b[38;5;124;43m\"\u001b[39;49m\u001b[43m:\u001b[49m\u001b[43m \u001b[49m\u001b[43mdata\u001b[49m\u001b[43m}\u001b[49m\u001b[43m \u001b[49m\u001b[38;5;28;43;01mif\u001b[39;49;00m\u001b[43m \u001b[49m\u001b[43mdata\u001b[49m\u001b[43m \u001b[49m\u001b[38;5;129;43;01mis\u001b[39;49;00m\u001b[43m \u001b[49m\u001b[38;5;129;43;01mnot\u001b[39;49;00m\u001b[43m \u001b[49m\u001b[38;5;28;43;01mNone\u001b[39;49;00m\u001b[43m \u001b[49m\u001b[38;5;28;43;01melse\u001b[39;49;00m\u001b[43m \u001b[49m\u001b[43m{\u001b[49m\u001b[43m}\u001b[49m\u001b[43m)\u001b[49m\u001b[43m,\u001b[49m\u001b[43m \u001b[49m\u001b[38;5;241;43m*\u001b[39;49m\u001b[38;5;241;43m*\u001b[39;49m\u001b[43mkwargs\u001b[49m\u001b[43m)\u001b[49m\n",
      "File \u001b[0;32m~/opt/anaconda3/envs/Main/lib/python3.9/site-packages/matplotlib/axes/_axes.py:1688\u001b[0m, in \u001b[0;36mAxes.plot\u001b[0;34m(self, scalex, scaley, data, *args, **kwargs)\u001b[0m\n\u001b[1;32m   1445\u001b[0m \u001b[38;5;250m\u001b[39m\u001b[38;5;124;03m\"\"\"\u001b[39;00m\n\u001b[1;32m   1446\u001b[0m \u001b[38;5;124;03mPlot y versus x as lines and/or markers.\u001b[39;00m\n\u001b[1;32m   1447\u001b[0m \n\u001b[0;32m   (...)\u001b[0m\n\u001b[1;32m   1685\u001b[0m \u001b[38;5;124;03m(``'green'``) or hex strings (``'#008000'``).\u001b[39;00m\n\u001b[1;32m   1686\u001b[0m \u001b[38;5;124;03m\"\"\"\u001b[39;00m\n\u001b[1;32m   1687\u001b[0m kwargs \u001b[38;5;241m=\u001b[39m cbook\u001b[38;5;241m.\u001b[39mnormalize_kwargs(kwargs, mlines\u001b[38;5;241m.\u001b[39mLine2D)\n\u001b[0;32m-> 1688\u001b[0m lines \u001b[38;5;241m=\u001b[39m [\u001b[38;5;241m*\u001b[39m\u001b[38;5;28mself\u001b[39m\u001b[38;5;241m.\u001b[39m_get_lines(\u001b[38;5;241m*\u001b[39margs, data\u001b[38;5;241m=\u001b[39mdata, \u001b[38;5;241m*\u001b[39m\u001b[38;5;241m*\u001b[39mkwargs)]\n\u001b[1;32m   1689\u001b[0m \u001b[38;5;28;01mfor\u001b[39;00m line \u001b[38;5;129;01min\u001b[39;00m lines:\n\u001b[1;32m   1690\u001b[0m     \u001b[38;5;28mself\u001b[39m\u001b[38;5;241m.\u001b[39madd_line(line)\n",
      "File \u001b[0;32m~/opt/anaconda3/envs/Main/lib/python3.9/site-packages/matplotlib/axes/_base.py:311\u001b[0m, in \u001b[0;36m_process_plot_var_args.__call__\u001b[0;34m(self, data, *args, **kwargs)\u001b[0m\n\u001b[1;32m    309\u001b[0m     this \u001b[38;5;241m+\u001b[39m\u001b[38;5;241m=\u001b[39m args[\u001b[38;5;241m0\u001b[39m],\n\u001b[1;32m    310\u001b[0m     args \u001b[38;5;241m=\u001b[39m args[\u001b[38;5;241m1\u001b[39m:]\n\u001b[0;32m--> 311\u001b[0m \u001b[38;5;28;01myield from\u001b[39;00m \u001b[38;5;28;43mself\u001b[39;49m\u001b[38;5;241;43m.\u001b[39;49m\u001b[43m_plot_args\u001b[49m\u001b[43m(\u001b[49m\n\u001b[1;32m    312\u001b[0m \u001b[43m    \u001b[49m\u001b[43mthis\u001b[49m\u001b[43m,\u001b[49m\u001b[43m \u001b[49m\u001b[43mkwargs\u001b[49m\u001b[43m,\u001b[49m\u001b[43m \u001b[49m\u001b[43mambiguous_fmt_datakey\u001b[49m\u001b[38;5;241;43m=\u001b[39;49m\u001b[43mambiguous_fmt_datakey\u001b[49m\u001b[43m)\u001b[49m\n",
      "File \u001b[0;32m~/opt/anaconda3/envs/Main/lib/python3.9/site-packages/matplotlib/axes/_base.py:504\u001b[0m, in \u001b[0;36m_process_plot_var_args._plot_args\u001b[0;34m(self, tup, kwargs, return_kwargs, ambiguous_fmt_datakey)\u001b[0m\n\u001b[1;32m    501\u001b[0m     \u001b[38;5;28mself\u001b[39m\u001b[38;5;241m.\u001b[39maxes\u001b[38;5;241m.\u001b[39myaxis\u001b[38;5;241m.\u001b[39mupdate_units(y)\n\u001b[1;32m    503\u001b[0m \u001b[38;5;28;01mif\u001b[39;00m x\u001b[38;5;241m.\u001b[39mshape[\u001b[38;5;241m0\u001b[39m] \u001b[38;5;241m!=\u001b[39m y\u001b[38;5;241m.\u001b[39mshape[\u001b[38;5;241m0\u001b[39m]:\n\u001b[0;32m--> 504\u001b[0m     \u001b[38;5;28;01mraise\u001b[39;00m \u001b[38;5;167;01mValueError\u001b[39;00m(\u001b[38;5;124mf\u001b[39m\u001b[38;5;124m\"\u001b[39m\u001b[38;5;124mx and y must have same first dimension, but \u001b[39m\u001b[38;5;124m\"\u001b[39m\n\u001b[1;32m    505\u001b[0m                      \u001b[38;5;124mf\u001b[39m\u001b[38;5;124m\"\u001b[39m\u001b[38;5;124mhave shapes \u001b[39m\u001b[38;5;132;01m{\u001b[39;00mx\u001b[38;5;241m.\u001b[39mshape\u001b[38;5;132;01m}\u001b[39;00m\u001b[38;5;124m and \u001b[39m\u001b[38;5;132;01m{\u001b[39;00my\u001b[38;5;241m.\u001b[39mshape\u001b[38;5;132;01m}\u001b[39;00m\u001b[38;5;124m\"\u001b[39m)\n\u001b[1;32m    506\u001b[0m \u001b[38;5;28;01mif\u001b[39;00m x\u001b[38;5;241m.\u001b[39mndim \u001b[38;5;241m>\u001b[39m \u001b[38;5;241m2\u001b[39m \u001b[38;5;129;01mor\u001b[39;00m y\u001b[38;5;241m.\u001b[39mndim \u001b[38;5;241m>\u001b[39m \u001b[38;5;241m2\u001b[39m:\n\u001b[1;32m    507\u001b[0m     \u001b[38;5;28;01mraise\u001b[39;00m \u001b[38;5;167;01mValueError\u001b[39;00m(\u001b[38;5;124mf\u001b[39m\u001b[38;5;124m\"\u001b[39m\u001b[38;5;124mx and y can be no greater than 2D, but have \u001b[39m\u001b[38;5;124m\"\u001b[39m\n\u001b[1;32m    508\u001b[0m                      \u001b[38;5;124mf\u001b[39m\u001b[38;5;124m\"\u001b[39m\u001b[38;5;124mshapes \u001b[39m\u001b[38;5;132;01m{\u001b[39;00mx\u001b[38;5;241m.\u001b[39mshape\u001b[38;5;132;01m}\u001b[39;00m\u001b[38;5;124m and \u001b[39m\u001b[38;5;132;01m{\u001b[39;00my\u001b[38;5;241m.\u001b[39mshape\u001b[38;5;132;01m}\u001b[39;00m\u001b[38;5;124m\"\u001b[39m)\n",
      "\u001b[0;31mValueError\u001b[0m: x and y must have same first dimension, but have shapes (4,) and (10,)"
     ]
    },
    {
     "data": {
      "image/png": "[encoded data removed]",
      "text/plain": [
       "<Figure size 640x480 with 1 Axes>"
      ]
     },
     "metadata": {},
     "output_type": "display_data"
    }
   ],
   "source": [
    "plt.plot(N,cost_train,label=\"train\",color=\"red\")\n",
    "plt.plot(N,cost_test,label=\"test\",color=\"blue\")\n",
    "plt.legend()\n",
    "plt.xlabel(\"n\")\n",
    "plt.ylabel(\"Cost\")"
   ]
  },
  {
   "cell_type": "markdown",
   "id": "83128e30-08dc-49f4-89b6-5418de70a24a",
   "metadata": {},
   "source": [
    "发现测试集的损失函数值明显高于训练集，而且随着$n$的增大，测试集的损失函数值逐渐降低"
   ]
  },
  {
   "cell_type": "markdown",
   "id": "70c58c86-215a-457d-a07d-ff08fde8cad8",
   "metadata": {},
   "source": [
    "# 6.\n",
    "用傅立叶级数作为假设函数，即\n",
    "$$\n",
    "h_{\\theta}(x^i)=\\theta_0+\\theta_1\\sin(x^i)+\\theta_2\\sin(2x^i)\\cdots+\\theta_n\\sin(nx^i)\n",
    "$$\n",
    "重复上面的训练和预测过程"
   ]
  },
  {
   "cell_type": "markdown",
   "id": "e0383a54-0055-4bcd-b1bc-ba3c0b0da367",
   "metadata": {},
   "source": [
    "这里相当于把$x^k$换成$\\sin(k\\cdot x)$，其他的跟之前完全一样"
   ]
  },
  {
   "cell_type": "markdown",
   "id": "81d3603f-ce23-439b-a926-ac414371ff4b",
   "metadata": {},
   "source": [
    "## Normal equation"
   ]
  },
  {
   "cell_type": "markdown",
   "id": "beda43c9-6498-4eb6-abb0-94d57b855c9a",
   "metadata": {},
   "source": [
    "### 训练"
   ]
  },
  {
   "cell_type": "markdown",
   "id": "cf5fc68a-65ab-4510-a803-a9af06df1a55",
   "metadata": {},
   "source": [
    "X的生成方法不变，只变Y，现在Y的生成和$n$有关，同时再次remind这个函数\n",
    "```\n",
    "normal(m,n,X,Y)\n",
    "```"
   ]
  },
  {
   "cell_type": "markdown",
   "id": "0d4c0d51-3133-4a2b-b111-59fcb24d0827",
   "metadata": {},
   "source": [
    "Y的生成公式为\n",
    "$$\n",
    "y = 1+ \\sin(x)+\\sin(2x)+\\cdots+\\sin(nx)\n",
    "$$"
   ]
  },
  {
   "cell_type": "code",
   "execution_count": 380,
   "id": "65296d46-190f-4ef9-b4f4-6c295fb92a9c",
   "metadata": {},
   "outputs": [],
   "source": [
    "def give_Y(m,n):\n",
    "    x = np.random.rand(m,1)\n",
    "    Y = 1\n",
    "    for i in range(n):\n",
    "        Y += np.sin(i*x)\n",
    "    return Y"
   ]
  },
  {
   "cell_type": "code",
   "execution_count": 382,
   "id": "a634f67e-46bf-4597-9cbd-e1695619c74f",
   "metadata": {},
   "outputs": [
    {
     "name": "stdout",
     "output_type": "stream",
     "text": [
      "[[ 2.55306735]\n",
      " [-0.32123935]\n",
      " [-0.32987909]\n",
      " [ 0.03127105]]Intel MKL WARNING: Support of Intel(R) Streaming SIMD Extensions 4.2 (Intel(R) SSE4.2) enabled only processors has been deprecated. Intel oneAPI Math Kernel Library 2025.0 will require Intel(R) Advanced Vector Extensions (Intel(R) AVX) instructions.\n",
      "\n"
     ]
    }
   ],
   "source": [
    "print(normal(40,3,X,give_Y(40,3)))"
   ]
  },
  {
   "cell_type": "markdown",
   "id": "b4d53f9b-c102-4176-850f-aee566ba6c7c",
   "metadata": {},
   "source": [
    "### 测试"
   ]
  },
  {
   "cell_type": "code",
   "execution_count": 384,
   "id": "4e9187f6-98e5-437c-868c-e806c0775349",
   "metadata": {},
   "outputs": [
    {
     "name": "stdout",
     "output_type": "stream",
     "text": [
      "Intel MKL WARNING: Support of Intel(R) Streaming SIMD Extensions 4.2 (Intel(R) SSE4.2) enabled only processors has been deprecated. Intel oneAPI Math Kernel Library 2025.0 will require Intel(R) Advanced Vector Extensions (Intel(R) AVX) instructions.\n",
      "Intel MKL WARNING: Support of Intel(R) Streaming SIMD Extensions 4.2 (Intel(R) SSE4.2) enabled only processors has been deprecated. Intel oneAPI Math Kernel Library 2025.0 will require Intel(R) Advanced Vector Extensions (Intel(R) AVX) instructions.\n",
      "Intel MKL WARNING: Support of Intel(R) Streaming SIMD Extensions 4.2 (Intel(R) SSE4.2) enabled only processors has been deprecated. Intel oneAPI Math Kernel Library 2025.0 will require Intel(R) Advanced Vector Extensions (Intel(R) AVX) instructions.\n",
      "Intel MKL WARNING: Support of Intel(R) Streaming SIMD Extensions 4.2 (Intel(R) SSE4.2) enabled only processors has been deprecated. Intel oneAPI Math Kernel Library 2025.0 will require Intel(R) Advanced Vector Extensions (Intel(R) AVX) instructions.\n",
      "Intel MKL WARNING: Support of Intel(R) Streaming SIMD Extensions 4.2 (Intel(R) SSE4.2) enabled only processors has been deprecated. Intel oneAPI Math Kernel Library 2025.0 will require Intel(R) Advanced Vector Extensions (Intel(R) AVX) instructions.\n",
      "Intel MKL WARNING: Support of Intel(R) Streaming SIMD Extensions 4.2 (Intel(R) SSE4.2) enabled only processors has been deprecated. Intel oneAPI Math Kernel Library 2025.0 will require Intel(R) Advanced Vector Extensions (Intel(R) AVX) instructions.\n",
      "Intel MKL WARNING: Support of Intel(R) Streaming SIMD Extensions 4.2 (Intel(R) SSE4.2) enabled only processors has been deprecated. Intel oneAPI Math Kernel Library 2025.0 will require Intel(R) Advanced Vector Extensions (Intel(R) AVX) instructions.\n",
      "Intel MKL WARNING: Support of Intel(R) Streaming SIMD Extensions 4.2 (Intel(R) SSE4.2) enabled only processors has been deprecated. Intel oneAPI Math Kernel Library 2025.0 will require Intel(R) Advanced Vector Extensions (Intel(R) AVX) instructions.\n",
      "Intel MKL WARNING: Support of Intel(R) Streaming SIMD Extensions 4.2 (Intel(R) SSE4.2) enabled only processors has been deprecated. Intel oneAPI Math Kernel Library 2025.0 will require Intel(R) Advanced Vector Extensions (Intel(R) AVX) instructions.\n",
      "Intel MKL WARNING: Support of Intel(R) Streaming SIMD Extensions 4.2 (Intel(R) SSE4.2) enabled only processors has been deprecated. Intel oneAPI Math Kernel Library 2025.0 will require Intel(R) Advanced Vector Extensions (Intel(R) AVX) instructions.\n",
      "[8.47409176e-32 1.95786399e-02 1.86587428e-01 2.08833174e-01\n",
      " 8.45319703e-01 7.94034347e-01 1.43713337e+00 3.04647827e+00\n",
      " 2.25266248e+00 5.94935721e+00]\n"
     ]
    }
   ],
   "source": [
    "m_t = 20\n",
    "N = list(range(1,11))\n",
    "cost_normal_f = np.zeros(len(N))\n",
    "for i in range(len(N)):\n",
    "    # 生成测试集\n",
    "    x_t = np.random.rand(m_t, N[i])\n",
    "    x_t = np.hstack((np.ones(m_t).reshape(m_t,1),x_t))\n",
    "    y_t = give_Y(m_t,N[i])\n",
    "    p = np.zeros((N[i]+1,1))\n",
    "    p = normal(40,N[i],X,give_Y(40,N[i]))\n",
    "    cost_normal_f[i] = cost(x_t,p,y_t)\n",
    "print(cost_normal_f)"
   ]
  },
  {
   "cell_type": "markdown",
   "id": "0c7b872e-c764-4636-8b54-8e3bc1277a75",
   "metadata": {},
   "source": [
    "会发现cost非常非常小，而且随着$n$增大而增大，这是normal equation的结果"
   ]
  },
  {
   "cell_type": "markdown",
   "id": "21ec246f-2ec3-4b1a-8cfe-04f116321177",
   "metadata": {},
   "source": [
    "## 梯度下降"
   ]
  },
  {
   "cell_type": "code",
   "execution_count": 386,
   "id": "5af68a5d-98ac-4ab5-97bb-22be965a8ad3",
   "metadata": {},
   "outputs": [
    {
     "name": "stdout",
     "output_type": "stream",
     "text": [
      "[1.74420519e-13 3.07327118e-02 1.44131463e-01 2.35082593e-01\n",
      " 1.83898814e-01 4.81531042e-01 1.06863043e+00 1.10279435e+00\n",
      " 8.09170047e-01 6.68862086e-01]\n"
     ]
    }
   ],
   "source": [
    "cost_gradient_f = np.zeros(len(N))\n",
    "for i in range(len(N)):\n",
    "    x_t = np.random.rand(20, N[i]) # 生成测试集\n",
    "    x_t = np.hstack((np.ones(20).reshape(20,1),x_t))\n",
    "    y_t = give_Y(m_t,N[i])\n",
    "    Theta = np.zeros((N[i]+1,1)) # 初始化\n",
    "    for j in range(iter):\n",
    "        Theta = Theta - a * gradient(x_t,Theta,y_t)\n",
    "    cost_gradient_f[i] = cost(x_t,Theta,y_t)\n",
    "\n",
    "print(cost_gradient_f)"
   ]
  },
  {
   "cell_type": "markdown",
   "id": "95119993-d5d8-4a12-8d28-65b3cd7ff13e",
   "metadata": {},
   "source": [
    "看到cost同样非常小，作图跟normal equation的方法对比一下"
   ]
  },
  {
   "cell_type": "code",
   "execution_count": 387,
   "id": "430d1a87-ee9e-4355-a50d-65860ba5c93e",
   "metadata": {},
   "outputs": [
    {
     "data": {
      "text/plain": [
       "Text(0, 0.5, 'Cost')"
      ]
     },
     "execution_count": 387,
     "metadata": {},
     "output_type": "execute_result"
    },
    {
     "data": {
      "image/png": "[encoded data removed]",
      "text/plain": [
       "<Figure size 640x480 with 1 Axes>"
      ]
     },
     "metadata": {},
     "output_type": "display_data"
    }
   ],
   "source": [
    "plt.plot(N,cost_normal_f,label=\"normal_f\",color=\"red\")\n",
    "plt.plot(N,cost_gradient_f,label=\"gradient_f\",color=\"blue\")\n",
    "plt.legend()\n",
    "plt.xlabel(\"n\")\n",
    "plt.ylabel(\"Cost\")"
   ]
  },
  {
   "cell_type": "markdown",
   "id": "facfc79a-0466-4bd5-b6d6-e6f2fdfc3dd7",
   "metadata": {},
   "source": [
    "$n$比较小时两种方法的预测能力差不多，但$n$比较大是梯度下降法预测效果更好，这可能是因为normal equation法只适合线性模型，当最高次幂增大时会发生欠拟合的情况"
   ]
  }
 ],
 "metadata": {
  "kernelspec": {
   "display_name": "Python 3 (ipykernel)",
   "language": "python",
   "name": "python3"
  },
  "language_info": {
   "codemirror_mode": {
    "name": "ipython",
    "version": 3
   },
   "file_extension": ".py",
   "mimetype": "text/x-python",
   "name": "python",
   "nbconvert_exporter": "python",
   "pygments_lexer": "ipython3",
   "version": "3.9.17"
  }
 },
 "nbformat": 4,
 "nbformat_minor": 5
}
